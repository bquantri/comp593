{
  "nbformat": 4,
  "nbformat_minor": 0,
  "metadata": {
    "colab": {
      "name": "LAB 2: CONSUMING WEB APIs",
      "provenance": [],
      "toc_visible": true,
      "include_colab_link": true
    },
    "kernelspec": {
      "name": "python3",
      "display_name": "Python 3"
    }
  },
  "cells": [
    {
      "cell_type": "markdown",
      "metadata": {
        "id": "view-in-github",
        "colab_type": "text"
      },
      "source": [
        "<a href=\"https://colab.research.google.com/github/bquantri/comp593/blob/main/COMP593-LAB2-BQUANTRI.ipynb\" target=\"_parent\"><img src=\"https://colab.research.google.com/assets/colab-badge.svg\" alt=\"Open In Colab\"/></a>"
      ]
    },
    {
      "cell_type": "markdown",
      "metadata": {
        "id": "EoKZy-QeYU0_"
      },
      "source": [
        "#LAB 2: CONSUMING WEB APIs"
      ]
    },
    {
      "cell_type": "markdown",
      "metadata": {
        "id": "ayyh7BuRYfJo"
      },
      "source": [
        "## Making Network Requests\n",
        "To experiment with consuming web APIs, we are going to use a python Library that will allow us to make HTTP requests. There are several options out there, some are more popular than others. The standard choice would be the [requests](https://2.python-requests.org/en/master/) library, but for the purposes of educating you on the finer points of HTTP Messages, we will be utilizing the [http.client](https://docs.python.org/3/library/http.client.html) library."
      ]
    },
    {
      "cell_type": "markdown",
      "metadata": {
        "id": "VkspyplEZ4sR"
      },
      "source": [
        "As we have learned, the first step to utilizing a library is to  import it into our python script. We will import the `client` object from the `http` module."
      ]
    },
    {
      "cell_type": "code",
      "metadata": {
        "id": "UWFC3bYoYRlx"
      },
      "source": [
        "from http import client"
      ],
      "execution_count": null,
      "outputs": []
    },
    {
      "cell_type": "markdown",
      "metadata": {
        "id": "FJsZPjpqaMnm"
      },
      "source": [
        "Next, we will attempt to create a connection to a host. For the purposes of this demonstration, we will connect to a Fake JSON Api provided to us by [typicode.](https://github.com/typicode)\n",
        "So, let's start by reviewing the [http.client documentation](https://docs.python.org/3/library/http.client.html) and creating a connection object."
      ]
    },
    {
      "cell_type": "code",
      "metadata": {
        "id": "vuasc-tmbAV-",
        "colab": {
          "base_uri": "https://localhost:8080/"
        },
        "outputId": "0abd303a-592b-4b61-c1d3-f9d79f5d47bf"
      },
      "source": [
        "from http import client\n",
        "\n",
        "# Per the documentation, we get a connection object by calling the HTTPConnection() or HTTPSConnection() methods,\n",
        "# with parameters for the address and port.\n",
        "cxn = client.HTTPSConnection('jsonplaceholder.typicode.com', 443)\n",
        "\n",
        "# Let's test our connection by making a HEAD request, validating the HTTP status code, and printing the response headers.\n",
        "cxn.request('HEAD', '/')\n",
        "\n",
        "response = cxn.getresponse()\n",
        "\n",
        "if response.status is 200:\n",
        "  print('Response:',response.status, '🎉🎉🎉', '\\n')\n",
        "else:\n",
        "  print('Uh Oh, got',response.status)\n",
        "\n",
        "print(response.headers)"
      ],
      "execution_count": 28,
      "outputs": [
        {
          "output_type": "stream",
          "name": "stdout",
          "text": [
            "Response: 200 🎉🎉🎉 \n",
            "\n",
            "Date: Sun, 20 Feb 2022 20:53:26 GMT\n",
            "Content-Type: text/html; charset=UTF-8\n",
            "Connection: keep-alive\n",
            "X-Powered-By: Express\n",
            "X-Ratelimit-Limit: 1000\n",
            "X-Ratelimit-Remaining: 999\n",
            "X-Ratelimit-Reset: 1645372994\n",
            "Vary: Origin, Accept-Encoding\n",
            "Access-Control-Allow-Credentials: true\n",
            "Cache-Control: public, max-age=43200\n",
            "Last-Modified: Sun, 20 Feb 2022 09:57:59 GMT\n",
            "Via: 1.1 vegur\n",
            "CF-Cache-Status: HIT\n",
            "Age: 17454\n",
            "Expect-CT: max-age=604800, report-uri=\"https://report-uri.cloudflare.com/cdn-cgi/beacon/expect-ct\"\n",
            "Report-To: {\"endpoints\":[{\"url\":\"https:\\/\\/a.nel.cloudflare.com\\/report\\/v3?s=hNeTh5OpuclfR1QOn86XSnbClWSHLRrCiwyFUoWhJ%2FupVGC%2B1z5XZZhcP3V%2Bk4xRqk8b818I1wX4G4HT5EXjXmp%2FIWgPT8HJOl74rrZfU5ZXqY9hQLC2UV5hTelDxrulnmfbQ3izIlYSIkhLwh2P\"}],\"group\":\"cf-nel\",\"max_age\":604800}\n",
            "NEL: {\"success_fraction\":0,\"report_to\":\"cf-nel\",\"max_age\":604800}\n",
            "Server: cloudflare\n",
            "CF-RAY: 6e0a9fd9e9ec5985-IAD\n",
            "alt-svc: h3=\":443\"; ma=86400, h3-29=\":443\"; ma=86400\n",
            "\n",
            "\n"
          ]
        }
      ]
    },
    {
      "cell_type": "markdown",
      "metadata": {
        "id": "_qwpsJKreFSj"
      },
      "source": [
        "Awesome! A 200 status code means everything is g2g. For information about what the different status codes retured from HTTP Requests, [look here.](https://developer.mozilla.org/en-US/docs/Web/HTTP/Status) If you received anything other than a 200 Status code, try reloading the Notebook, ensuring you didn't accidentally make any changes."
      ]
    },
    {
      "cell_type": "markdown",
      "metadata": {
        "id": "1dr6bRGJfK5N"
      },
      "source": [
        "## JSON: The Language of APIs\n",
        "\n",
        "JSON (**J**ava**S**cript **O**bject **N**otation) is a messaging standard that was formalized in 2014 based on specifications of the JavaScript Standard introduced in 1999. In it's simplest form, it is an object containing a collection of `key` and `value` pairs. Values can be any primitive data types such as `boolean`, `integer`, `float`, or `string` but can also be nested `objects` or `arrays`.\n",
        "Almost every language provides an interface to be able to encode or decode JSON objects into a native format.\n",
        "\n",
        "In the case of python, we can decode JSON objects to `dictionaries`, and vice versa. See the example below:"
      ]
    },
    {
      "cell_type": "code",
      "metadata": {
        "id": "tB53-AfEg1sW",
        "colab": {
          "base_uri": "https://localhost:8080/"
        },
        "outputId": "834eff3f-7ddf-4b24-bb69-e8932cb21e63"
      },
      "source": [
        "import json\n",
        "\n",
        "#Given the following Dictionary\n",
        "values = dict([('first_name', 'Homer'), ('last_name', 'Simpson'), ('city', 'Springfield'), ('occupation', 'Nuclear Technician')])\n",
        "\n",
        "#We can convert a dictionary to using using the json.dumps() method\n",
        "jsonObject = json.dumps(values)\n",
        "print(jsonObject, '\\n')\n",
        "\n",
        "#Alternatively, given JSON, we can convert to a Dictionary object using the json.loads() method\n",
        "dictionary = json.loads(jsonObject)\n",
        "print(dictionary['first_name'], dictionary['last_name'])"
      ],
      "execution_count": null,
      "outputs": [
        {
          "output_type": "stream",
          "name": "stdout",
          "text": [
            "{\"first_name\": \"Homer\", \"last_name\": \"Simpson\", \"city\": \"Springfield\", \"occupation\": \"Nuclear Technician\"} \n",
            "\n",
            "Homer Simpson\n"
          ]
        }
      ]
    },
    {
      "cell_type": "markdown",
      "metadata": {
        "id": "ceieILkVovku"
      },
      "source": [
        "Taking a look at the Documentation for the [fake API](https://jsonplaceholder.typicode.com/), it returns JSON objects for requests it receives. Let's try and combine what we've learned to get the Email Address of the User with ID 10."
      ]
    },
    {
      "cell_type": "code",
      "metadata": {
        "id": "F--Bluq4pY4j",
        "colab": {
          "base_uri": "https://localhost:8080/",
          "height": 356
        },
        "outputId": "d076eff0-6b5a-47f0-b00c-c9fe91d2bdd7"
      },
      "source": [
        "from http import client\n",
        "import json\n",
        "\n",
        "# Per the documentation, we get a connection object by calling the HTTPConnection() or HTTPSConnection() methods,\n",
        "# with parameters for the address and port.\n",
        "cxn = client.HTTPSConnection('jsonplaceholder.typicode.com', 443)\n",
        "\n",
        "# In order to make our request, we will need to modify the method from our previous example to a GET request for the resource at '/users/10'.\n",
        "# When you're ready, uncomment the method call below.\n",
        "# cxn.request('HEAD', '/')\n",
        "\n",
        "response = cxn.getresponse()\n",
        "\n",
        "if response.status is 200:\n",
        "  print('Response:',response.status, '🎉🎉🎉', '\\n')\n",
        "else:\n",
        "  print('Uh Oh, got',response.status)\n",
        "\n",
        "#If everything goes well, this should contain the JSON response from the API.\n",
        "jsonData = response.read().decode()\n",
        "print(jsonData)\n",
        "\n",
        "#Next, go ahead and convert the jsonData string to a Dictionary, and print the email address.\n",
        "#Look at the example above for some pointers on how to accomplish that.\n",
        "\n",
        "#dictionary = ...\n",
        "#print(dictionary['...'])"
      ],
      "execution_count": 27,
      "outputs": [
        {
          "output_type": "error",
          "ename": "ResponseNotReady",
          "evalue": "ignored",
          "traceback": [
            "\u001b[0;31m---------------------------------------------------------------------------\u001b[0m",
            "\u001b[0;31mResponseNotReady\u001b[0m                          Traceback (most recent call last)",
            "\u001b[0;32m<ipython-input-27-0f0e0eab6f15>\u001b[0m in \u001b[0;36m<module>\u001b[0;34m()\u001b[0m\n\u001b[1;32m     10\u001b[0m \u001b[0;31m# cxn.request('HEAD', '/')\u001b[0m\u001b[0;34m\u001b[0m\u001b[0;34m\u001b[0m\u001b[0;34m\u001b[0m\u001b[0m\n\u001b[1;32m     11\u001b[0m \u001b[0;34m\u001b[0m\u001b[0m\n\u001b[0;32m---> 12\u001b[0;31m \u001b[0mresponse\u001b[0m \u001b[0;34m=\u001b[0m \u001b[0mcxn\u001b[0m\u001b[0;34m.\u001b[0m\u001b[0mgetresponse\u001b[0m\u001b[0;34m(\u001b[0m\u001b[0;34m)\u001b[0m\u001b[0;34m\u001b[0m\u001b[0;34m\u001b[0m\u001b[0m\n\u001b[0m\u001b[1;32m     13\u001b[0m \u001b[0;34m\u001b[0m\u001b[0m\n\u001b[1;32m     14\u001b[0m \u001b[0;32mif\u001b[0m \u001b[0mresponse\u001b[0m\u001b[0;34m.\u001b[0m\u001b[0mstatus\u001b[0m \u001b[0;32mis\u001b[0m \u001b[0;36m200\u001b[0m\u001b[0;34m:\u001b[0m\u001b[0;34m\u001b[0m\u001b[0;34m\u001b[0m\u001b[0m\n",
            "\u001b[0;32m/usr/lib/python3.7/http/client.py\u001b[0m in \u001b[0;36mgetresponse\u001b[0;34m(self)\u001b[0m\n\u001b[1;32m   1361\u001b[0m         \u001b[0;31m#\u001b[0m\u001b[0;34m\u001b[0m\u001b[0;34m\u001b[0m\u001b[0;34m\u001b[0m\u001b[0m\n\u001b[1;32m   1362\u001b[0m         \u001b[0;32mif\u001b[0m \u001b[0mself\u001b[0m\u001b[0;34m.\u001b[0m\u001b[0m__state\u001b[0m \u001b[0;34m!=\u001b[0m \u001b[0m_CS_REQ_SENT\u001b[0m \u001b[0;32mor\u001b[0m \u001b[0mself\u001b[0m\u001b[0;34m.\u001b[0m\u001b[0m__response\u001b[0m\u001b[0;34m:\u001b[0m\u001b[0;34m\u001b[0m\u001b[0;34m\u001b[0m\u001b[0m\n\u001b[0;32m-> 1363\u001b[0;31m             \u001b[0;32mraise\u001b[0m \u001b[0mResponseNotReady\u001b[0m\u001b[0;34m(\u001b[0m\u001b[0mself\u001b[0m\u001b[0;34m.\u001b[0m\u001b[0m__state\u001b[0m\u001b[0;34m)\u001b[0m\u001b[0;34m\u001b[0m\u001b[0;34m\u001b[0m\u001b[0m\n\u001b[0m\u001b[1;32m   1364\u001b[0m \u001b[0;34m\u001b[0m\u001b[0m\n\u001b[1;32m   1365\u001b[0m         \u001b[0;32mif\u001b[0m \u001b[0mself\u001b[0m\u001b[0;34m.\u001b[0m\u001b[0mdebuglevel\u001b[0m \u001b[0;34m>\u001b[0m \u001b[0;36m0\u001b[0m\u001b[0;34m:\u001b[0m\u001b[0;34m\u001b[0m\u001b[0;34m\u001b[0m\u001b[0m\n",
            "\u001b[0;31mResponseNotReady\u001b[0m: Idle"
          ]
        }
      ]
    },
    {
      "cell_type": "markdown",
      "metadata": {
        "id": "pPObsy_av_Ic"
      },
      "source": [
        "## Lab Submission\n",
        "\n",
        "For your Lab Submission, you will create a script that accomplishes the following goals:\n",
        "\n",
        "1.   Review the Documentation for the [PokeApi](https://pokeapi.co/)\n",
        "2.   Make a GET request to the correct endpoint to get information about any Pokemon.\n",
        "3.   Convert that Data from a JSON object to a Dictionary\n",
        "4.   Using that Dictonary, craft a string that will provide the `name`, `weight` and list of names of `types`\n",
        "5. Make an HTTP POST request using the Provided PasteBin API key to upload your crafted string. If successful, you will receive the URL of the PasteBin Document in the response of the POST request.\n",
        "6. That Link, and the code within this Notebook, will be your submission.\n",
        "\n"
      ]
    },
    {
      "cell_type": "code",
      "metadata": {
        "id": "lZswmCEKyHj8",
        "colab": {
          "base_uri": "https://localhost:8080/"
        },
        "outputId": "847b37c7-32e7-4c89-c923-9a145c07a058"
      },
      "source": [
        "from http import client\n",
        "import urllib\n",
        "import json\n",
        "\n",
        "#HINT: You may want to create two different HTTPSConnection() objects for each API.\n",
        "\n",
        "#pokeApi Connection\n",
        "pokeApi = client.HTTPSConnection('pokeapi.co', 443)\n",
        "\n",
        "pokeApi.request(\"GET\", \"https://pokeapi.co/api/v2/pokemon/garchomp\")\n",
        "response = pokeApi.getresponse()\n",
        "if response.status == 200:\n",
        "  print('Response:',response.status, 'good to go', '\\n')\n",
        "else:\n",
        "  print('No sir, got',response.status)\n",
        "\n",
        "jsonData = response.read().decode()\n",
        "dictionary = json.loads(jsonData)\n",
        "\n",
        "pokeString = \"name: \"+ dictionary[\"name\"], \"weight: \"+ str(dictionary[\"weight\"]) + \"types: \"+ dictionary[\"types\"][0][\"type\"][\"name\"],\"|\", dictionary[\"types\"][1][\"type\"][\"name\"]\n",
        "print(pokeString)\n",
        "\n",
        "\n",
        "#Connect to the pastbin APi\n",
        "pasteBin = client.HTTPSConnection(\"pastebin.com\", 443)\n",
        "\n",
        "#The Pastebin API key you will use\n",
        "pasteBinApi = \"f4R0OTFza_qTQ1NZJYLjoCeLqoHQux4X\"\n",
        "\n",
        "#Refer to the documentation at https://pastebin.com/doc_api for instructions on these parameters\n",
        "requestParams = {\n",
        "    'api_dev_key': \"f4R0OTFza_qTQ1NZJYLjoCeLqoHQux4X\",\n",
        "    'api_option': 'paste',\n",
        "    'api_paste_code': pokeString\n",
        "}\n",
        "\n",
        "#This additional Method call will convert the Dictionary to a URL-Encoded string for PasteBin,\n",
        "#Include this string as the body of your call to the HTTPConnection.request() method for your pasteBin connection.\n",
        "requestBody = urllib.parse.urlencode(requestParams)\n",
        "\n",
        "#Since we are URLEncoding the request Body, we need to tell Pastebin that it can expect x-www-form-urlencoded content, by adding this information to the request header\n",
        "pasteBinHeaders = {'Content-Type': 'application/x-www-form-urlencoded'}\n",
        "\n",
        "#When you are ready, you will pass the requestBody and the pasteBinHeaders to a pastebin request object, filling in the parameters as necessary.\n",
        "pasteBinRequest = pasteBin.request(\"POST\", url=\"/api/api_post.php\", body=requestBody, headers=pasteBinHeaders)\n",
        "pasteBinResponse = pasteBin.getresponse()\n",
        "if pasteBinResponse.status == 200:\n",
        "  print('Response:',pasteBinResponse.status, 'good to go', '\\n')\n",
        "else:\n",
        "  print('No sir, got',pasteBinResponse.status)\n",
        "\n",
        "pasteBinData = pasteBinResponse.read().decode()\n",
        "print(pasteBinData)\n",
        "\n",
        "\n",
        "\n",
        "\n",
        "\n",
        "\n",
        "\n"
      ],
      "execution_count": 59,
      "outputs": [
        {
          "output_type": "stream",
          "name": "stdout",
          "text": [
            "Response: 200 good to go \n",
            "\n",
            "('name: garchomp', 'weight: 950types: dragon', '|', 'ground')\n",
            "Response: 200 good to go \n",
            "\n",
            "https://pastebin.com/GMrW5jaB\n"
          ]
        }
      ]
    }
  ]
}